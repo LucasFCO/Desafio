{
 "cells": [
  {
   "cell_type": "code",
   "execution_count": 1,
   "metadata": {},
   "outputs": [],
   "source": [
    "# Importando todas as bibliotecas utilizadas\n",
    "import pandas as pd \n",
    "from sklearn.model_selection import train_test_split \n",
    "\n",
    "from sklearn import preprocessing as pre\n",
    "from sklearn.preprocessing import StandardScaler\n",
    "\n",
    "from sklearn.linear_model import LinearRegression\n",
    "from sklearn.metrics import mean_squared_error\n",
    "from sklearn.metrics import mean_absolute_error\n",
    "\n",
    "import matplotlib.pyplot as plt\n",
    "import numpy as np\n",
    "\n",
    "import pickle"
   ]
  },
  {
   "cell_type": "code",
   "execution_count": 2,
   "metadata": {},
   "outputs": [],
   "source": [
    "# Criando o dataframe.\n",
    "df = pd.read_csv('precificacao_alugueis_ny.csv')"
   ]
  },
  {
   "cell_type": "code",
   "execution_count": 3,
   "metadata": {},
   "outputs": [],
   "source": [
    "# Descartando informações pessoais que a priore não serão utilizadas para predição.\n",
    "df = df.drop(['nome', 'host_name', 'id', 'host_id', 'ultima_review'], axis=1) # se der errado pode ser a ordem das colunas.\n",
    "\n",
    "# Número de instacias diferentes em features do tipo object.\n",
    "\n",
    "mp = {title: index for index, title in enumerate(df['bairro_group'].unique())}\n",
    "df['bairro_group'] = df['bairro_group'].map(mp)\n",
    "mp = {title: index for index, title in enumerate(df['bairro'].unique())}\n",
    "df['bairro'] = df['bairro'].map(mp)\n",
    "mp = {title: index for index, title in enumerate(df['room_type'].unique())}\n",
    "df['room_type'] = df['room_type'].map(mp)\n",
    "\n",
    "df.dropna(inplace=True)"
   ]
  },
  {
   "cell_type": "code",
   "execution_count": 4,
   "metadata": {},
   "outputs": [],
   "source": [
    "# Separando as variaveis\n",
    "y = df['price'] # variavel alvo.\n",
    "X = df.drop(['price'], axis=1) # variavel preditiva."
   ]
  },
  {
   "cell_type": "code",
   "execution_count": 5,
   "metadata": {},
   "outputs": [],
   "source": [
    "with open ('dados_entrada.pkl', 'wb') as arquivo: \n",
    "    pickle.dump(X, arquivo)"
   ]
  },
  {
   "cell_type": "code",
   "execution_count": 6,
   "metadata": {},
   "outputs": [],
   "source": [
    "X_treino, X_teste, y_treino, y_teste = train_test_split(X,y, train_size=0.7) # realizando a distrbuição que ficara 70% para treino e 30 para testes."
   ]
  },
  {
   "cell_type": "code",
   "execution_count": 7,
   "metadata": {},
   "outputs": [],
   "source": [
    "# Com pre processamento\n",
    "\n",
    "X_treino_pre = pre.MinMaxScaler().fit_transform(X_treino)\n",
    "X_teste_pre = pre.MinMaxScaler().fit_transform(X_teste)\n",
    "\n",
    "scaler = StandardScaler()\n",
    "X_treino_sca = scaler.fit_transform(X_treino)\n",
    "X_teste_sca = scaler.fit_transform(X_teste)"
   ]
  },
  {
   "cell_type": "code",
   "execution_count": 8,
   "metadata": {},
   "outputs": [],
   "source": [
    "reg = LinearRegression().fit(X_treino, y_treino)\n",
    "reg_pre = LinearRegression().fit(X_treino_pre, y_treino)\n",
    "reg_sca = LinearRegression().fit(X_treino_sca, y_treino)"
   ]
  },
  {
   "cell_type": "code",
   "execution_count": 9,
   "metadata": {},
   "outputs": [
    {
     "name": "stdout",
     "output_type": "stream",
     "text": [
      "\n",
      "-------- Sem Pré-Processamento ---------------\n",
      "\n",
      "Média do erro Absoluto:  61.512802277353735\n",
      "MSE:  32040.14235270274\n",
      "\n",
      "-------- Dados Pré-Processados ---------------\n",
      "\n",
      "MinMaxScaler\n",
      "Média do erro Absoluto:  61.04066263650056\n",
      "MSE:  32036.879698088105\n",
      "StandardScaler\n",
      "Média do erro Absoluto:  61.04066263650056\n",
      "MSE:  32036.879698088105\n"
     ]
    }
   ],
   "source": [
    "# Avaliando o erro.\n",
    "y_predicao = reg.predict(X_teste)\n",
    "y_predicao_pre = reg_pre.predict(X_teste_pre)\n",
    "y_predicao_sca = reg_pre.predict(X_teste_sca)\n",
    "\n",
    "print('\\n-------- Sem Pré-Processamento ---------------\\n')\n",
    "print('Média do erro Absoluto: ', mean_absolute_error (y_teste, y_predicao))\n",
    "print('MSE: ', mean_squared_error (y_teste, y_predicao))\n",
    "\n",
    "print('\\n-------- Dados Pré-Processados ---------------\\n')\n",
    "print('MinMaxScaler')\n",
    "print('Média do erro Absoluto: ',mean_absolute_error (y_teste, y_predicao_pre))\n",
    "print('MSE: ',mean_squared_error (y_teste, y_predicao_pre))\n",
    "\n",
    "print('StandardScaler')\n",
    "print('Média do erro Absoluto: ',mean_absolute_error (y_teste, y_predicao_pre))\n",
    "print('MSE: ',mean_squared_error (y_teste, y_predicao_pre))\n",
    "\n",
    "# O que esta sendo analizado é o aumento do erro, se o erro aumentar o modelo piorou."
   ]
  },
  {
   "cell_type": "code",
   "execution_count": 10,
   "metadata": {},
   "outputs": [
    {
     "data": {
      "text/html": [
       "<div>\n",
       "<style scoped>\n",
       "    .dataframe tbody tr th:only-of-type {\n",
       "        vertical-align: middle;\n",
       "    }\n",
       "\n",
       "    .dataframe tbody tr th {\n",
       "        vertical-align: top;\n",
       "    }\n",
       "\n",
       "    .dataframe thead th {\n",
       "        text-align: right;\n",
       "    }\n",
       "</style>\n",
       "<table border=\"1\" class=\"dataframe\">\n",
       "  <thead>\n",
       "    <tr style=\"text-align: right;\">\n",
       "      <th></th>\n",
       "      <th>bairro_group</th>\n",
       "      <th>bairro</th>\n",
       "      <th>latitude</th>\n",
       "      <th>longitude</th>\n",
       "      <th>room_type</th>\n",
       "      <th>price</th>\n",
       "      <th>minimo_noites</th>\n",
       "      <th>numero_de_reviews</th>\n",
       "      <th>reviews_por_mes</th>\n",
       "      <th>calculado_host_listings_count</th>\n",
       "      <th>disponibilidade_365</th>\n",
       "    </tr>\n",
       "  </thead>\n",
       "  <tbody>\n",
       "    <tr>\n",
       "      <th>0</th>\n",
       "      <td>0</td>\n",
       "      <td>0</td>\n",
       "      <td>40.75362</td>\n",
       "      <td>-73.98377</td>\n",
       "      <td>0</td>\n",
       "      <td>225</td>\n",
       "      <td>1</td>\n",
       "      <td>45</td>\n",
       "      <td>0.38</td>\n",
       "      <td>2</td>\n",
       "      <td>355</td>\n",
       "    </tr>\n",
       "    <tr>\n",
       "      <th>2</th>\n",
       "      <td>1</td>\n",
       "      <td>2</td>\n",
       "      <td>40.68514</td>\n",
       "      <td>-73.95976</td>\n",
       "      <td>0</td>\n",
       "      <td>89</td>\n",
       "      <td>1</td>\n",
       "      <td>270</td>\n",
       "      <td>4.64</td>\n",
       "      <td>1</td>\n",
       "      <td>194</td>\n",
       "    </tr>\n",
       "    <tr>\n",
       "      <th>3</th>\n",
       "      <td>0</td>\n",
       "      <td>3</td>\n",
       "      <td>40.79851</td>\n",
       "      <td>-73.94399</td>\n",
       "      <td>0</td>\n",
       "      <td>80</td>\n",
       "      <td>10</td>\n",
       "      <td>9</td>\n",
       "      <td>0.10</td>\n",
       "      <td>1</td>\n",
       "      <td>0</td>\n",
       "    </tr>\n",
       "    <tr>\n",
       "      <th>4</th>\n",
       "      <td>0</td>\n",
       "      <td>4</td>\n",
       "      <td>40.74767</td>\n",
       "      <td>-73.97500</td>\n",
       "      <td>0</td>\n",
       "      <td>200</td>\n",
       "      <td>3</td>\n",
       "      <td>74</td>\n",
       "      <td>0.59</td>\n",
       "      <td>1</td>\n",
       "      <td>129</td>\n",
       "    </tr>\n",
       "    <tr>\n",
       "      <th>5</th>\n",
       "      <td>1</td>\n",
       "      <td>5</td>\n",
       "      <td>40.68688</td>\n",
       "      <td>-73.95596</td>\n",
       "      <td>1</td>\n",
       "      <td>60</td>\n",
       "      <td>45</td>\n",
       "      <td>49</td>\n",
       "      <td>0.40</td>\n",
       "      <td>1</td>\n",
       "      <td>0</td>\n",
       "    </tr>\n",
       "  </tbody>\n",
       "</table>\n",
       "</div>"
      ],
      "text/plain": [
       "   bairro_group  bairro  latitude  longitude  room_type  price  minimo_noites  \\\n",
       "0             0       0  40.75362  -73.98377          0    225              1   \n",
       "2             1       2  40.68514  -73.95976          0     89              1   \n",
       "3             0       3  40.79851  -73.94399          0     80             10   \n",
       "4             0       4  40.74767  -73.97500          0    200              3   \n",
       "5             1       5  40.68688  -73.95596          1     60             45   \n",
       "\n",
       "   numero_de_reviews  reviews_por_mes  calculado_host_listings_count  \\\n",
       "0                 45             0.38                              2   \n",
       "2                270             4.64                              1   \n",
       "3                  9             0.10                              1   \n",
       "4                 74             0.59                              1   \n",
       "5                 49             0.40                              1   \n",
       "\n",
       "   disponibilidade_365  \n",
       "0                  355  \n",
       "2                  194  \n",
       "3                    0  \n",
       "4                  129  \n",
       "5                    0  "
      ]
     },
     "execution_count": 10,
     "metadata": {},
     "output_type": "execute_result"
    }
   ],
   "source": [
    "df.head()"
   ]
  },
  {
   "cell_type": "code",
   "execution_count": 11,
   "metadata": {},
   "outputs": [
    {
     "data": {
      "image/png": "[encoded data removed]",
      "text/plain": [
       "<Figure size 1500x400 with 3 Axes>"
      ]
     },
     "metadata": {},
     "output_type": "display_data"
    }
   ],
   "source": [
    "plt.figure(figsize=(15, 4))\n",
    "plt.rcParams.update({'font.size':9})\n",
    "\n",
    "\n",
    "plt.subplot(131)\n",
    "plt.scatter(y_predicao,y_teste)\n",
    "plt.plot([-150,300], [1,10000], color='red')\n",
    "plt.xticks(rotation=45)\n",
    "plt.title('Sem pre-processamento')\n",
    "\n",
    "plt.subplot(132)\n",
    "plt.scatter(y_predicao_pre,y_teste)\n",
    "plt.plot([-150,300], [1,10000], color='red')\n",
    "plt.xticks(rotation=45)\n",
    "plt.title('Dados MinMaxScaler')\n",
    "\n",
    "plt.subplot(133)\n",
    "plt.scatter(y_predicao_sca,y_teste)\n",
    "plt.plot([-3500,1200], [1,10000], color='red')\n",
    "plt.xticks(rotation=45)\n",
    "plt.title('Dados StandardScaler')\n",
    "\n",
    "\n",
    "\n",
    "plt.suptitle('Previsão de preços')\n",
    "plt.show()"
   ]
  },
  {
   "cell_type": "code",
   "execution_count": 12,
   "metadata": {},
   "outputs": [],
   "source": [
    "# y_teste = np.array(y_teste)\n",
    "# diferencas = []\n",
    "# for i in range(len(y_teste)):\n",
    "#     diferencas.append([y_teste[i]-y_predicao[i], y_teste[i]-y_predicao_pre[i], y_teste[i]-y_predicao_sca[i]])   \n",
    "    \n",
    "# diferencas\n",
    "# print(y_teste,'\\n')\n",
    "# print(y_predicao,'\\n')\n",
    "# print(y_predicao_pre,'\\n')\n",
    "# print(y_predicao_sca,'\\n')\n",
    "# print(len(y_teste),len(y_predicao))\n",
    "# type(teste)"
   ]
  },
  {
   "cell_type": "code",
   "execution_count": 13,
   "metadata": {},
   "outputs": [],
   "source": [
    "with open('modelo.pkl', 'wb') as arquivo:\n",
    "    pickle.dump(reg_pre, arquivo)"
   ]
  }
 ],
 "metadata": {
  "kernelspec": {
   "display_name": "Python 3",
   "language": "python",
   "name": "python3"
  },
  "language_info": {
   "codemirror_mode": {
    "name": "ipython",
    "version": 3
   },
   "file_extension": ".py",
   "mimetype": "text/x-python",
   "name": "python",
   "nbconvert_exporter": "python",
   "pygments_lexer": "ipython3",
   "version": "3.11.5"
  }
 },
 "nbformat": 4,
 "nbformat_minor": 2
}
